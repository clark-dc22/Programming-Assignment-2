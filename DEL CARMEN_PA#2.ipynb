{
 "cells": [
  {
   "cell_type": "code",
   "execution_count": 4,
   "id": "f9153081-82f1-4a01-a107-fdbcd4a87a2a",
   "metadata": {},
   "outputs": [
    {
     "name": "stdout",
     "output_type": "stream",
     "text": [
      "Original array:\n",
      "[[0.37454012 0.95071431 0.73199394 0.59865848 0.15601864]\n",
      " [0.15599452 0.05808361 0.86617615 0.60111501 0.70807258]\n",
      " [0.02058449 0.96990985 0.83244264 0.21233911 0.18182497]\n",
      " [0.18340451 0.30424224 0.52475643 0.43194502 0.29122914]\n",
      " [0.61185289 0.13949386 0.29214465 0.36636184 0.45606998]]\n",
      "\n",
      "Normalized array:\n",
      "[[-0.23709911  1.82467557  1.04200929  0.56488331 -1.01905371]\n",
      " [-1.01914002 -1.36950322  1.52216525  0.57367372  0.95640937]\n",
      " [-1.5036896   1.89336468  1.40145369 -0.81751722 -0.92670866]\n",
      " [-0.92105645 -0.48865218  0.30043311 -0.03168212 -0.5352181 ]\n",
      " [ 0.61209803 -1.07818578 -0.53194206 -0.26636415  0.05464636]]\n"
     ]
    }
   ],
   "source": [
    "import numpy as np\n",
    "\n",
    "# Set random seed for reproducibility\n",
    "np.random.seed(42)\n",
    "\n",
    "# Create a random 5x5 array\n",
    "original_array = np.random.rand(5, 5)\n",
    "print(\"Original array:\")\n",
    "print(original_array)\n",
    "print()\n",
    "\n",
    "# Solve for mean and standard deviation\n",
    "mean_X = np.mean(X)\n",
    "deviation_value = np.std(X)\n",
    "\n",
    "# Normalize the array\n",
    "normalized_matrix = (X - mean_X) / deviation_value  \n",
    "\n",
    "print(\"Normalized array:\")\n",
    "print(normalized_matrix)  \n"
   ]
  },
  {
   "cell_type": "code",
   "execution_count": 6,
   "id": "005e4864-cf49-4812-b6f3-cd5a6f0686db",
   "metadata": {},
   "outputs": [
    {
     "name": "stdout",
     "output_type": "stream",
     "text": [
      "Array A (squares of first 100 integers):\n",
      "[[    1     4     9    16    25    36    49    64    81   100]\n",
      " [  121   144   169   196   225   256   289   324   361   400]\n",
      " [  441   484   529   576   625   676   729   784   841   900]\n",
      " [  961  1024  1089  1156  1225  1296  1369  1444  1521  1600]\n",
      " [ 1681  1764  1849  1936  2025  2116  2209  2304  2401  2500]\n",
      " [ 2601  2704  2809  2916  3025  3136  3249  3364  3481  3600]\n",
      " [ 3721  3844  3969  4096  4225  4356  4489  4624  4761  4900]\n",
      " [ 5041  5184  5329  5476  5625  5776  5929  6084  6241  6400]\n",
      " [ 6561  6724  6889  7056  7225  7396  7569  7744  7921  8100]\n",
      " [ 8281  8464  8649  8836  9025  9216  9409  9604  9801 10000]]\n",
      "\n",
      "Elements divisible by 3:\n",
      "[   9   36   81  144  225  324  441  576  729  900 1089 1296 1521 1764\n",
      " 2025 2304 2601 2916 3249 3600 3969 4356 4761 5184 5625 6084 6561 7056\n",
      " 7569 8100 8649 9216 9801]\n"
     ]
    }
   ],
   "source": [
    "import numpy as np\n",
    "\n",
    "# Create array of first 100 positive integers\n",
    "integers = np.arange(1, 101)\n",
    "\n",
    "# Square each element\n",
    "squared_values = integers ** 2\n",
    "\n",
    "# Reshape into 10x10 array\n",
    "A = squares.reshape(10, 10)\n",
    "print(\"Array A (squares of first 100 integers):\")\n",
    "print(A)\n",
    "print()\n",
    "\n",
    "# Find elements divisible by 3\n",
    "div_by_3 = A[A % 3 == 0]\n",
    "print(\"Elements divisible by 3:\")\n",
    "print(div_by_3)\n",
    "\n",
    "# Save to file\n",
    "np.save('divisibles_by_3.npy', div_by_3)\n"
   ]
  },
  {
   "cell_type": "code",
   "execution_count": null,
   "id": "64ce4397-ea9e-44ee-9847-ae8e0b5b72f1",
   "metadata": {},
   "outputs": [],
   "source": []
  },
  {
   "cell_type": "code",
   "execution_count": null,
   "id": "86e8282f-2b49-4d3a-925c-e39d7e174756",
   "metadata": {},
   "outputs": [],
   "source": []
  }
 ],
 "metadata": {
  "kernelspec": {
   "display_name": "Python [conda env:base] *",
   "language": "python",
   "name": "conda-base-py"
  },
  "language_info": {
   "codemirror_mode": {
    "name": "ipython",
    "version": 3
   },
   "file_extension": ".py",
   "mimetype": "text/x-python",
   "name": "python",
   "nbconvert_exporter": "python",
   "pygments_lexer": "ipython3",
   "version": "3.13.5"
  }
 },
 "nbformat": 4,
 "nbformat_minor": 5
}
